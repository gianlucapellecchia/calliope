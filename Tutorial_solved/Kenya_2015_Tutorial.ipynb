{
 "cells": [
  {
   "attachments": {
    "sesam_logo-4.png": {
     "image/png": "[encoded data removed]"
    }
   },
   "cell_type": "markdown",
   "metadata": {},
   "source": [
    "![sesam_logo-4.png](attachment:sesam_logo-4.png)"
   ]
  },
  {
   "cell_type": "markdown",
   "metadata": {},
   "source": [
    "## Python Script to Run the Four-Node Kenya Case Study"
   ]
  },
  {
   "cell_type": "markdown",
   "metadata": {},
   "source": [
    "### 1. Importing calliope model and built-in cal-graph module for post-process analysis"
   ]
  },
  {
   "cell_type": "code",
   "execution_count": 1,
   "metadata": {},
   "outputs": [],
   "source": [
    "import calliope\n",
    "import cal_graph as gg"
   ]
  },
  {
   "cell_type": "markdown",
   "metadata": {},
   "source": [
    "### 2. Setting the level of verbosity of Calliope's operations"
   ]
  },
  {
   "cell_type": "code",
   "execution_count": 2,
   "metadata": {
    "scrolled": true
   },
   "outputs": [],
   "source": [
    "try:\n",
    "    calliope.set_log_level('Error')\n",
    "except:\n",
    "    calliope.set_log_verbosity('Error')"
   ]
  },
  {
   "cell_type": "markdown",
   "metadata": {},
   "source": [
    "### 3. Assigning a name to the model settings file and run it"
   ]
  },
  {
   "cell_type": "code",
   "execution_count": 3,
   "metadata": {},
   "outputs": [
    {
     "name": "stdout",
     "output_type": "stream",
     "text": [
      "[2023-03-08 14:34:03] DEBUG    The parameter name is already an attribute of the Pyomo model.It will be prepended with `calliope_` for differentiatation.\n",
      "[2023-03-08 14:36:18] DEBUG    Set parameter Username\n",
      "Academic license - for non-commercial use only - expires 2024-02-15\n",
      "[2023-03-08 14:36:19] DEBUG    Read LP format model from file C:\\Users\\stevo\\AppData\\Local\\Temp\\tmpc530hxev.pyomo.lp\n",
      "Reading time = 1.54 seconds\n",
      "x420513: 692057 rows, 420513 columns, 1638153 nonzeros\n",
      "Gurobi Optimizer version 9.5.0 build v9.5.0rc5 (win64)\n",
      "Thread count: 4 physical cores, 8 logical processors, using up to 8 threads\n",
      "Optimize a model with 692057 rows, 420513 columns and 1638153 nonzeros\n",
      "Model fingerprint: 0x8d1c3289\n",
      "Coefficient statistics:\n",
      "  Matrix range     [1e+00, 1e+00]\n",
      "  Objective range  [1e-04, 5e+02]\n",
      "  Bounds range     [2e+03, 7e+05]\n",
      "  RHS range        [1e-03, 8e+05]\n",
      "\n",
      "Concurrent LP optimizer: dual simplex and barrier\n",
      "Showing barrier log only...\n",
      "[2023-03-08 14:36:20] DEBUG    Presolve removed 657017 rows and 193058 columns\n",
      "[2023-03-08 14:36:20] DEBUG    Presolve time: 0.60s\n",
      "Presolved: 35040 rows, 227455 columns, 367615 nonzeros\n",
      "\n",
      "Ordering time: 0.00s\n",
      "\n",
      "Barrier statistics:\n",
      " AA' NZ     : 4.380e+04\n",
      " Factor NZ  : 8.760e+04 (roughly 100 MB of memory)\n",
      " Factor Ops : 2.628e+05 (less than 1 second per iteration)\n",
      " Threads    : 1\n",
      "[2023-03-08 14:36:20] DEBUG    Objective                Residual\n",
      "Iter       Primal          Dual         Primal    Dual     Compl     Time\n",
      "   0   3.06906151e+09 -7.77379701e+09  2.18e+05 4.44e-16  2.01e+05     1s\n",
      "   1   1.45054683e+09 -3.51576860e+09  1.92e+04 3.55e-15  3.11e+04     1s\n",
      "[2023-03-08 14:36:20] DEBUG    2   1.08950178e+09  1.46392637e+08  4.22e+02 1.33e-14  4.21e+03     1s\n",
      "   3   9.55907216e+08  8.78178968e+08  3.01e+01 2.66e-15  3.44e+02     1s\n",
      "   4   9.39477767e+08  9.23039648e+08  5.94e+00 2.49e-14  7.27e+01     1s\n",
      "[2023-03-08 14:36:20] DEBUG    5   9.36602326e+08  9.29375770e+08  3.00e+00 1.24e-14  3.20e+01     1s\n",
      "   6   9.34812744e+08  9.31492076e+08  1.43e+00 5.33e-15  1.47e+01     1s\n",
      "   7   9.33878494e+08  9.32289941e+08  7.16e-01 7.11e-15  7.05e+00     1s\n",
      "[2023-03-08 14:36:20] DEBUG    8   9.33401315e+08  9.32616650e+08  3.53e-01 7.11e-15  3.49e+00     1s\n",
      "   9   9.33161235e+08  9.32761411e+08  1.76e-01 7.11e-15  1.78e+00     1s\n",
      "[2023-03-08 14:36:20] DEBUG    10   9.33004539e+08  9.32854426e+08  6.44e-02 8.88e-15  6.66e-01     1s\n",
      "  11   9.32949759e+08  9.32882667e+08  2.80e-02 8.88e-15  2.97e-01     1s\n",
      "  12   9.32918446e+08  9.32896170e+08  8.17e-03 7.11e-15  9.84e-02     1s\n",
      "[2023-03-08 14:36:20] DEBUG    13   9.32911844e+08  9.32901066e+08  4.21e-03 7.11e-15  4.76e-02     1s\n",
      "  14   9.32906259e+08  9.32903209e+08  9.38e-04 1.42e-14  1.34e-02     1s\n",
      "  15   9.32905163e+08  9.32904121e+08  3.09e-04 7.11e-15  4.59e-03     1s\n",
      "[2023-03-08 14:36:20] DEBUG    16   9.32904669e+08  9.32904438e+08  5.16e-05 4.44e-15  1.01e-03     1s\n",
      "  17   9.32904583e+08  9.32904530e+08  1.21e-05 2.89e-13  2.33e-04     1s\n",
      "[2023-03-08 14:36:21] DEBUG    18   9.32904554e+08  9.32904550e+08  1.02e-06 8.73e-12  1.62e-05     1s\n",
      "  19   9.32904551e+08  9.32904551e+08  5.09e-07 1.05e-11  1.46e-06     2s\n",
      "[2023-03-08 14:36:21] DEBUG    20   9.32904551e+08  9.32904551e+08  9.63e-09 1.08e-12  2.35e-08     2s\n",
      "  21   9.32904551e+08  9.32904551e+08  6.29e-10 1.50e-15  1.54e-10     2s\n",
      "\n",
      "Barrier solved model in 21 iterations and 1.61 seconds (1.54 work units)\n",
      "Optimal objective 9.32904551e+08\n",
      "\n",
      "\n",
      "Solved with dual simplex\n",
      "Solved in 58426 iterations and 1.65 seconds (1.16 work units)\n",
      "Optimal objective  9.329045512e+08\n"
     ]
    }
   ],
   "source": [
    "model = calliope.Model('model.yaml')\n",
    "model.run()"
   ]
  },
  {
   "cell_type": "markdown",
   "metadata": {},
   "source": [
    "### 4. Saving the input data and output results in separated csv files"
   ]
  },
  {
   "cell_type": "code",
   "execution_count": 5,
   "metadata": {},
   "outputs": [],
   "source": [
    "model.to_csv(r'results')"
   ]
  },
  {
   "cell_type": "markdown",
   "metadata": {},
   "source": [
    "### 5. Creating an instance of the built-in graph class"
   ]
  },
  {
   "cell_type": "code",
   "execution_count": 6,
   "metadata": {},
   "outputs": [
    {
     "name": "stdout",
     "output_type": "stream",
     "text": [
      "C_Graph: A python class for customizing calliope outputs developed in Fondazione Eni Enrico Mattei. \n",
      " Version 0.1: (Single Carrier)\n"
     ]
    },
    {
     "ename": "KeyError",
     "evalue": "'locs is not a valid dimension or coordinate'",
     "output_type": "error",
     "traceback": [
      "\u001b[1;31m---------------------------------------------------------------------------\u001b[0m",
      "\u001b[1;31mKeyError\u001b[0m                                  Traceback (most recent call last)",
      "\u001b[1;32m~\\anaconda3\\envs\\calliopev10\\lib\\site-packages\\xarray-2022.3.0-py3.8.egg\\xarray\\core\\indexing.py\u001b[0m in \u001b[0;36mgroup_indexers_by_index\u001b[1;34m(data_obj, indexers, method, tolerance)\u001b[0m\n\u001b[0;32m     72\u001b[0m         \u001b[1;32mtry\u001b[0m\u001b[1;33m:\u001b[0m\u001b[1;33m\u001b[0m\u001b[1;33m\u001b[0m\u001b[0m\n\u001b[1;32m---> 73\u001b[1;33m             \u001b[0mindex\u001b[0m \u001b[1;33m=\u001b[0m \u001b[0mxindexes\u001b[0m\u001b[1;33m[\u001b[0m\u001b[0mkey\u001b[0m\u001b[1;33m]\u001b[0m\u001b[1;33m\u001b[0m\u001b[1;33m\u001b[0m\u001b[0m\n\u001b[0m\u001b[0;32m     74\u001b[0m             \u001b[0mcoord\u001b[0m \u001b[1;33m=\u001b[0m \u001b[0mdata_obj\u001b[0m\u001b[1;33m.\u001b[0m\u001b[0mcoords\u001b[0m\u001b[1;33m[\u001b[0m\u001b[0mkey\u001b[0m\u001b[1;33m]\u001b[0m\u001b[1;33m\u001b[0m\u001b[1;33m\u001b[0m\u001b[0m\n",
      "\u001b[1;31mKeyError\u001b[0m: 'locs'",
      "\nDuring handling of the above exception, another exception occurred:\n",
      "\u001b[1;31mKeyError\u001b[0m                                  Traceback (most recent call last)",
      "\u001b[1;32m~\\AppData\\Local\\Temp\\ipykernel_13392\\3088382531.py\u001b[0m in \u001b[0;36m<module>\u001b[1;34m\u001b[0m\n\u001b[1;32m----> 1\u001b[1;33m \u001b[0mmy_graphs\u001b[0m \u001b[1;33m=\u001b[0m \u001b[0mgg\u001b[0m\u001b[1;33m.\u001b[0m\u001b[0mC_Graph\u001b[0m\u001b[1;33m(\u001b[0m\u001b[0mmodel\u001b[0m\u001b[1;33m=\u001b[0m\u001b[0mmodel\u001b[0m\u001b[1;33m,\u001b[0m\u001b[0mex_path\u001b[0m\u001b[1;33m=\u001b[0m\u001b[1;34mr'Graph_inputs.xlsx'\u001b[0m\u001b[1;33m,\u001b[0m\u001b[0munit\u001b[0m\u001b[1;33m=\u001b[0m\u001b[1;34m'kW'\u001b[0m\u001b[1;33m)\u001b[0m\u001b[1;33m\u001b[0m\u001b[1;33m\u001b[0m\u001b[0m\n\u001b[0m\u001b[0;32m      2\u001b[0m \u001b[1;33m\u001b[0m\u001b[0m\n",
      "\u001b[1;32m~\\Politecnico di Milano\\DENG-SESAM - TEACHING\\2022-2023\\MSc_PlanningLab\\Materiale Didattico\\Lezioni\\i_Casestudy_Calliope\\1.Tutorial\\Tutorial_solved\\cal_graph.py\u001b[0m in \u001b[0;36m__init__\u001b[1;34m(self, model, ex_path, unit)\u001b[0m\n\u001b[0;32m     41\u001b[0m         \u001b[0mself\u001b[0m\u001b[1;33m.\u001b[0m\u001b[0mRES_ind\u001b[0m     \u001b[1;33m=\u001b[0m \u001b[0mex_inp\u001b[0m\u001b[1;33m[\u001b[0m\u001b[1;36m9\u001b[0m\u001b[1;33m]\u001b[0m\u001b[1;33m\u001b[0m\u001b[1;33m\u001b[0m\u001b[0m\n\u001b[0;32m     42\u001b[0m \u001b[1;33m\u001b[0m\u001b[0m\n\u001b[1;32m---> 43\u001b[1;33m         \u001b[0mself\u001b[0m\u001b[1;33m.\u001b[0m\u001b[0mproduction\u001b[0m             \u001b[1;33m=\u001b[0m \u001b[0mprod_matrix\u001b[0m \u001b[1;33m(\u001b[0m\u001b[0mmodel\u001b[0m\u001b[1;33m,\u001b[0m\u001b[0mself\u001b[0m\u001b[1;33m.\u001b[0m\u001b[0mpr_techs\u001b[0m\u001b[1;33m,\u001b[0m\u001b[0mself\u001b[0m\u001b[1;33m.\u001b[0m\u001b[0mnodes\u001b[0m\u001b[1;33m,\u001b[0m\u001b[0mself\u001b[0m\u001b[1;33m.\u001b[0m\u001b[0mcarrier\u001b[0m\u001b[1;33m)\u001b[0m\u001b[1;33m\u001b[0m\u001b[1;33m\u001b[0m\u001b[0m\n\u001b[0m\u001b[0;32m     44\u001b[0m         \u001b[0mself\u001b[0m\u001b[1;33m.\u001b[0m\u001b[0mimports\u001b[0m\u001b[1;33m,\u001b[0m\u001b[0mself\u001b[0m\u001b[1;33m.\u001b[0m\u001b[0mexports\u001b[0m   \u001b[1;33m=\u001b[0m \u001b[0mimp_exp\u001b[0m\u001b[1;33m(\u001b[0m\u001b[0mmodel\u001b[0m\u001b[1;33m,\u001b[0m\u001b[0mself\u001b[0m\u001b[1;33m.\u001b[0m\u001b[0mnodes\u001b[0m\u001b[1;33m,\u001b[0m\u001b[0mself\u001b[0m\u001b[1;33m.\u001b[0m\u001b[0mproduction\u001b[0m\u001b[1;33m,\u001b[0m\u001b[0mself\u001b[0m\u001b[1;33m.\u001b[0m\u001b[0mtr_tech\u001b[0m\u001b[1;33m,\u001b[0m\u001b[0mself\u001b[0m\u001b[1;33m.\u001b[0m\u001b[0mcarrier\u001b[0m\u001b[1;33m)\u001b[0m\u001b[1;33m\u001b[0m\u001b[1;33m\u001b[0m\u001b[0m\n\u001b[0;32m     45\u001b[0m         \u001b[0mself\u001b[0m\u001b[1;33m.\u001b[0m\u001b[0mdemand\u001b[0m                 \u001b[1;33m=\u001b[0m \u001b[0mdem_matrix\u001b[0m \u001b[1;33m(\u001b[0m\u001b[0mmodel\u001b[0m\u001b[1;33m,\u001b[0m\u001b[0mself\u001b[0m\u001b[1;33m.\u001b[0m\u001b[0mco_techs\u001b[0m\u001b[1;33m,\u001b[0m\u001b[0mself\u001b[0m\u001b[1;33m.\u001b[0m\u001b[0mcarrier\u001b[0m\u001b[1;33m,\u001b[0m\u001b[0mself\u001b[0m\u001b[1;33m.\u001b[0m\u001b[0mnodes\u001b[0m\u001b[1;33m)\u001b[0m\u001b[1;33m\u001b[0m\u001b[1;33m\u001b[0m\u001b[0m\n",
      "\u001b[1;32m~\\Politecnico di Milano\\DENG-SESAM - TEACHING\\2022-2023\\MSc_PlanningLab\\Materiale Didattico\\Lezioni\\i_Casestudy_Calliope\\1.Tutorial\\Tutorial_solved\\calliope_graph\\matrixmaker.py\u001b[0m in \u001b[0;36mprod_matrix\u001b[1;34m(model, pr_techs, nodes, carr)\u001b[0m\n\u001b[0;32m     54\u001b[0m     \u001b[1;32mimport\u001b[0m \u001b[0mpandas\u001b[0m \u001b[1;32mas\u001b[0m \u001b[0mpd\u001b[0m\u001b[1;33m\u001b[0m\u001b[1;33m\u001b[0m\u001b[0m\n\u001b[0;32m     55\u001b[0m \u001b[1;33m\u001b[0m\u001b[0m\n\u001b[1;32m---> 56\u001b[1;33m     \u001b[0mprod\u001b[0m \u001b[1;33m=\u001b[0m \u001b[0mmodel\u001b[0m\u001b[1;33m.\u001b[0m\u001b[0mget_formatted_array\u001b[0m\u001b[1;33m(\u001b[0m\u001b[1;34m'carrier_prod'\u001b[0m\u001b[1;33m)\u001b[0m\u001b[1;33m.\u001b[0m\u001b[0mloc\u001b[0m\u001b[1;33m[\u001b[0m\u001b[1;33m{\u001b[0m\u001b[1;34m'techs'\u001b[0m\u001b[1;33m:\u001b[0m\u001b[0mpr_techs\u001b[0m\u001b[1;33m,\u001b[0m\u001b[1;34m'carriers'\u001b[0m\u001b[1;33m:\u001b[0m\u001b[0mcarr\u001b[0m\u001b[1;33m,\u001b[0m\u001b[1;34m'locs'\u001b[0m\u001b[1;33m:\u001b[0m\u001b[1;33m[\u001b[0m\u001b[0mnodes\u001b[0m\u001b[1;33m[\u001b[0m\u001b[1;36m0\u001b[0m\u001b[1;33m]\u001b[0m\u001b[1;33m]\u001b[0m\u001b[1;33m}\u001b[0m\u001b[1;33m]\u001b[0m\u001b[1;33m.\u001b[0m\u001b[0msum\u001b[0m\u001b[1;33m(\u001b[0m\u001b[1;34m'locs'\u001b[0m\u001b[1;33m)\u001b[0m\u001b[1;33m.\u001b[0m\u001b[0msum\u001b[0m\u001b[1;33m(\u001b[0m\u001b[1;34m'carriers'\u001b[0m\u001b[1;33m)\u001b[0m\u001b[1;33m.\u001b[0m\u001b[0mto_pandas\u001b[0m\u001b[1;33m(\u001b[0m\u001b[1;33m)\u001b[0m\u001b[1;33m.\u001b[0m\u001b[0mT\u001b[0m\u001b[1;33m\u001b[0m\u001b[1;33m\u001b[0m\u001b[0m\n\u001b[0m\u001b[0;32m     57\u001b[0m     \u001b[0mprod\u001b[0m \u001b[1;33m=\u001b[0m \u001b[0mpd\u001b[0m\u001b[1;33m.\u001b[0m\u001b[0mconcat\u001b[0m\u001b[1;33m(\u001b[0m\u001b[1;33m[\u001b[0m\u001b[0mprod\u001b[0m\u001b[1;33m]\u001b[0m\u001b[1;33m,\u001b[0m\u001b[0mkeys\u001b[0m\u001b[1;33m=\u001b[0m\u001b[1;33m[\u001b[0m\u001b[0mnodes\u001b[0m\u001b[1;33m[\u001b[0m\u001b[1;36m0\u001b[0m\u001b[1;33m]\u001b[0m\u001b[1;33m]\u001b[0m\u001b[1;33m,\u001b[0m\u001b[0maxis\u001b[0m\u001b[1;33m=\u001b[0m\u001b[1;36m1\u001b[0m\u001b[1;33m)\u001b[0m\u001b[1;33m\u001b[0m\u001b[1;33m\u001b[0m\u001b[0m\n\u001b[0;32m     58\u001b[0m \u001b[1;33m\u001b[0m\u001b[0m\n",
      "\u001b[1;32m~\\anaconda3\\envs\\calliopev10\\lib\\site-packages\\xarray-2022.3.0-py3.8.egg\\xarray\\core\\dataarray.py\u001b[0m in \u001b[0;36m__getitem__\u001b[1;34m(self, key)\u001b[0m\n\u001b[0;32m    197\u001b[0m             \u001b[0mlabels\u001b[0m \u001b[1;33m=\u001b[0m \u001b[0mindexing\u001b[0m\u001b[1;33m.\u001b[0m\u001b[0mexpanded_indexer\u001b[0m\u001b[1;33m(\u001b[0m\u001b[0mkey\u001b[0m\u001b[1;33m,\u001b[0m \u001b[0mself\u001b[0m\u001b[1;33m.\u001b[0m\u001b[0mdata_array\u001b[0m\u001b[1;33m.\u001b[0m\u001b[0mndim\u001b[0m\u001b[1;33m)\u001b[0m\u001b[1;33m\u001b[0m\u001b[1;33m\u001b[0m\u001b[0m\n\u001b[0;32m    198\u001b[0m             \u001b[0mkey\u001b[0m \u001b[1;33m=\u001b[0m \u001b[0mdict\u001b[0m\u001b[1;33m(\u001b[0m\u001b[0mzip\u001b[0m\u001b[1;33m(\u001b[0m\u001b[0mself\u001b[0m\u001b[1;33m.\u001b[0m\u001b[0mdata_array\u001b[0m\u001b[1;33m.\u001b[0m\u001b[0mdims\u001b[0m\u001b[1;33m,\u001b[0m \u001b[0mlabels\u001b[0m\u001b[1;33m)\u001b[0m\u001b[1;33m)\u001b[0m\u001b[1;33m\u001b[0m\u001b[1;33m\u001b[0m\u001b[0m\n\u001b[1;32m--> 199\u001b[1;33m         \u001b[1;32mreturn\u001b[0m \u001b[0mself\u001b[0m\u001b[1;33m.\u001b[0m\u001b[0mdata_array\u001b[0m\u001b[1;33m.\u001b[0m\u001b[0msel\u001b[0m\u001b[1;33m(\u001b[0m\u001b[0mkey\u001b[0m\u001b[1;33m)\u001b[0m\u001b[1;33m\u001b[0m\u001b[1;33m\u001b[0m\u001b[0m\n\u001b[0m\u001b[0;32m    200\u001b[0m \u001b[1;33m\u001b[0m\u001b[0m\n\u001b[0;32m    201\u001b[0m     \u001b[1;32mdef\u001b[0m \u001b[0m__setitem__\u001b[0m\u001b[1;33m(\u001b[0m\u001b[0mself\u001b[0m\u001b[1;33m,\u001b[0m \u001b[0mkey\u001b[0m\u001b[1;33m,\u001b[0m \u001b[0mvalue\u001b[0m\u001b[1;33m)\u001b[0m \u001b[1;33m->\u001b[0m \u001b[1;32mNone\u001b[0m\u001b[1;33m:\u001b[0m\u001b[1;33m\u001b[0m\u001b[1;33m\u001b[0m\u001b[0m\n",
      "\u001b[1;32m~\\anaconda3\\envs\\calliopev10\\lib\\site-packages\\xarray-2022.3.0-py3.8.egg\\xarray\\core\\dataarray.py\u001b[0m in \u001b[0;36msel\u001b[1;34m(self, indexers, method, tolerance, drop, **indexers_kwargs)\u001b[0m\n\u001b[0;32m   1327\u001b[0m         \u001b[0mDimensions\u001b[0m \u001b[0mwithout\u001b[0m \u001b[0mcoordinates\u001b[0m\u001b[1;33m:\u001b[0m \u001b[0mpoints\u001b[0m\u001b[1;33m\u001b[0m\u001b[1;33m\u001b[0m\u001b[0m\n\u001b[0;32m   1328\u001b[0m         \"\"\"\n\u001b[1;32m-> 1329\u001b[1;33m         ds = self._to_temp_dataset().sel(\n\u001b[0m\u001b[0;32m   1330\u001b[0m             \u001b[0mindexers\u001b[0m\u001b[1;33m=\u001b[0m\u001b[0mindexers\u001b[0m\u001b[1;33m,\u001b[0m\u001b[1;33m\u001b[0m\u001b[1;33m\u001b[0m\u001b[0m\n\u001b[0;32m   1331\u001b[0m             \u001b[0mdrop\u001b[0m\u001b[1;33m=\u001b[0m\u001b[0mdrop\u001b[0m\u001b[1;33m,\u001b[0m\u001b[1;33m\u001b[0m\u001b[1;33m\u001b[0m\u001b[0m\n",
      "\u001b[1;32m~\\anaconda3\\envs\\calliopev10\\lib\\site-packages\\xarray-2022.3.0-py3.8.egg\\xarray\\core\\dataset.py\u001b[0m in \u001b[0;36msel\u001b[1;34m(self, indexers, method, tolerance, drop, **indexers_kwargs)\u001b[0m\n\u001b[0;32m   2499\u001b[0m         \"\"\"\n\u001b[0;32m   2500\u001b[0m         \u001b[0mindexers\u001b[0m \u001b[1;33m=\u001b[0m \u001b[0meither_dict_or_kwargs\u001b[0m\u001b[1;33m(\u001b[0m\u001b[0mindexers\u001b[0m\u001b[1;33m,\u001b[0m \u001b[0mindexers_kwargs\u001b[0m\u001b[1;33m,\u001b[0m \u001b[1;34m\"sel\"\u001b[0m\u001b[1;33m)\u001b[0m\u001b[1;33m\u001b[0m\u001b[1;33m\u001b[0m\u001b[0m\n\u001b[1;32m-> 2501\u001b[1;33m         pos_indexers, new_indexes = remap_label_indexers(\n\u001b[0m\u001b[0;32m   2502\u001b[0m             \u001b[0mself\u001b[0m\u001b[1;33m,\u001b[0m \u001b[0mindexers\u001b[0m\u001b[1;33m=\u001b[0m\u001b[0mindexers\u001b[0m\u001b[1;33m,\u001b[0m \u001b[0mmethod\u001b[0m\u001b[1;33m=\u001b[0m\u001b[0mmethod\u001b[0m\u001b[1;33m,\u001b[0m \u001b[0mtolerance\u001b[0m\u001b[1;33m=\u001b[0m\u001b[0mtolerance\u001b[0m\u001b[1;33m\u001b[0m\u001b[1;33m\u001b[0m\u001b[0m\n\u001b[0;32m   2503\u001b[0m         )\n",
      "\u001b[1;32m~\\anaconda3\\envs\\calliopev10\\lib\\site-packages\\xarray-2022.3.0-py3.8.egg\\xarray\\core\\coordinates.py\u001b[0m in \u001b[0;36mremap_label_indexers\u001b[1;34m(obj, indexers, method, tolerance, **indexers_kwargs)\u001b[0m\n\u001b[0;32m    419\u001b[0m     }\n\u001b[0;32m    420\u001b[0m \u001b[1;33m\u001b[0m\u001b[0m\n\u001b[1;32m--> 421\u001b[1;33m     pos_indexers, new_indexes = indexing.remap_label_indexers(\n\u001b[0m\u001b[0;32m    422\u001b[0m         \u001b[0mobj\u001b[0m\u001b[1;33m,\u001b[0m \u001b[0mv_indexers\u001b[0m\u001b[1;33m,\u001b[0m \u001b[0mmethod\u001b[0m\u001b[1;33m=\u001b[0m\u001b[0mmethod\u001b[0m\u001b[1;33m,\u001b[0m \u001b[0mtolerance\u001b[0m\u001b[1;33m=\u001b[0m\u001b[0mtolerance\u001b[0m\u001b[1;33m\u001b[0m\u001b[1;33m\u001b[0m\u001b[0m\n\u001b[0;32m    423\u001b[0m     )\n",
      "\u001b[1;32m~\\anaconda3\\envs\\calliopev10\\lib\\site-packages\\xarray-2022.3.0-py3.8.egg\\xarray\\core\\indexing.py\u001b[0m in \u001b[0;36mremap_label_indexers\u001b[1;34m(data_obj, indexers, method, tolerance)\u001b[0m\n\u001b[0;32m    108\u001b[0m     \u001b[0mnew_indexes\u001b[0m \u001b[1;33m=\u001b[0m \u001b[1;33m{\u001b[0m\u001b[1;33m}\u001b[0m\u001b[1;33m\u001b[0m\u001b[1;33m\u001b[0m\u001b[0m\n\u001b[0;32m    109\u001b[0m \u001b[1;33m\u001b[0m\u001b[0m\n\u001b[1;32m--> 110\u001b[1;33m     indexes, grouped_indexers = group_indexers_by_index(\n\u001b[0m\u001b[0;32m    111\u001b[0m         \u001b[0mdata_obj\u001b[0m\u001b[1;33m,\u001b[0m \u001b[0mindexers\u001b[0m\u001b[1;33m,\u001b[0m \u001b[0mmethod\u001b[0m\u001b[1;33m,\u001b[0m \u001b[0mtolerance\u001b[0m\u001b[1;33m\u001b[0m\u001b[1;33m\u001b[0m\u001b[0m\n\u001b[0;32m    112\u001b[0m     )\n",
      "\u001b[1;32m~\\anaconda3\\envs\\calliopev10\\lib\\site-packages\\xarray-2022.3.0-py3.8.egg\\xarray\\core\\indexing.py\u001b[0m in \u001b[0;36mgroup_indexers_by_index\u001b[1;34m(data_obj, indexers, method, tolerance)\u001b[0m\n\u001b[0;32m     84\u001b[0m                 \u001b[1;32mraise\u001b[0m \u001b[0mKeyError\u001b[0m\u001b[1;33m(\u001b[0m\u001b[1;34mf\"no index found for coordinate {key}\"\u001b[0m\u001b[1;33m)\u001b[0m\u001b[1;33m\u001b[0m\u001b[1;33m\u001b[0m\u001b[0m\n\u001b[0;32m     85\u001b[0m             \u001b[1;32melif\u001b[0m \u001b[0mkey\u001b[0m \u001b[1;32mnot\u001b[0m \u001b[1;32min\u001b[0m \u001b[0mdata_obj\u001b[0m\u001b[1;33m.\u001b[0m\u001b[0mdims\u001b[0m\u001b[1;33m:\u001b[0m\u001b[1;33m\u001b[0m\u001b[1;33m\u001b[0m\u001b[0m\n\u001b[1;32m---> 86\u001b[1;33m                 \u001b[1;32mraise\u001b[0m \u001b[0mKeyError\u001b[0m\u001b[1;33m(\u001b[0m\u001b[1;34mf\"{key} is not a valid dimension or coordinate\"\u001b[0m\u001b[1;33m)\u001b[0m\u001b[1;33m\u001b[0m\u001b[1;33m\u001b[0m\u001b[0m\n\u001b[0m\u001b[0;32m     87\u001b[0m             \u001b[1;31m# key is a dimension without coordinate: we'll reuse the provided labels\u001b[0m\u001b[1;33m\u001b[0m\u001b[1;33m\u001b[0m\u001b[1;33m\u001b[0m\u001b[0m\n\u001b[0;32m     88\u001b[0m             \u001b[1;32melif\u001b[0m \u001b[0mmethod\u001b[0m \u001b[1;32mis\u001b[0m \u001b[1;32mnot\u001b[0m \u001b[1;32mNone\u001b[0m \u001b[1;32mor\u001b[0m \u001b[0mtolerance\u001b[0m \u001b[1;32mis\u001b[0m \u001b[1;32mnot\u001b[0m \u001b[1;32mNone\u001b[0m\u001b[1;33m:\u001b[0m\u001b[1;33m\u001b[0m\u001b[1;33m\u001b[0m\u001b[0m\n",
      "\u001b[1;31mKeyError\u001b[0m: 'locs is not a valid dimension or coordinate'"
     ]
    }
   ],
   "source": [
    "my_graphs = gg.C_Graph(model=model,ex_path=r'Graph_inputs.xlsx',unit='kW')\n",
    "\n"
   ]
  },
  {
   "cell_type": "markdown",
   "metadata": {},
   "source": [
    "### 6. Visualizing the results by the inner functions of the built-in graph class"
   ]
  },
  {
   "cell_type": "code",
   "execution_count": 7,
   "metadata": {},
   "outputs": [
    {
     "ename": "NameError",
     "evalue": "name 'my_graphs' is not defined",
     "output_type": "error",
     "traceback": [
      "\u001b[1;31m---------------------------------------------------------------------------\u001b[0m",
      "\u001b[1;31mNameError\u001b[0m                                 Traceback (most recent call last)",
      "\u001b[1;32m~\\AppData\\Local\\Temp\\ipykernel_13392\\4050729881.py\u001b[0m in \u001b[0;36m<module>\u001b[1;34m\u001b[0m\n\u001b[1;32m----> 1\u001b[1;33m \u001b[0mmy_graphs\u001b[0m\u001b[1;33m.\u001b[0m\u001b[0mnode_pie\u001b[0m\u001b[1;33m(\u001b[0m\u001b[0mrational\u001b[0m \u001b[1;33m=\u001b[0m \u001b[1;34m'consumption'\u001b[0m\u001b[1;33m)\u001b[0m\u001b[1;33m\u001b[0m\u001b[1;33m\u001b[0m\u001b[0m\n\u001b[0m",
      "\u001b[1;31mNameError\u001b[0m: name 'my_graphs' is not defined"
     ]
    }
   ],
   "source": [
    "my_graphs.node_pie(rational = 'consumption')"
   ]
  },
  {
   "cell_type": "markdown",
   "metadata": {},
   "source": []
  },
  {
   "cell_type": "code",
   "execution_count": null,
   "metadata": {},
   "outputs": [],
   "source": [
    "my_graphs.node_dispatch()"
   ]
  },
  {
   "cell_type": "code",
   "execution_count": null,
   "metadata": {},
   "outputs": [],
   "source": [
    "my_graphs.sys_dispatch()"
   ]
  },
  {
   "cell_type": "code",
   "execution_count": null,
   "metadata": {},
   "outputs": [],
   "source": [
    "my_graphs.ins_cap_plot()"
   ]
  },
  {
   "cell_type": "code",
   "execution_count": null,
   "metadata": {},
   "outputs": [],
   "source": []
  }
 ],
 "metadata": {
  "kernelspec": {
   "display_name": "Python 3 (ipykernel)",
   "language": "python",
   "name": "python3"
  },
  "language_info": {
   "codemirror_mode": {
    "name": "ipython",
    "version": 3
   },
   "file_extension": ".py",
   "mimetype": "text/x-python",
   "name": "python",
   "nbconvert_exporter": "python",
   "pygments_lexer": "ipython3",
   "version": "3.8.16"
  }
 },
 "nbformat": 4,
 "nbformat_minor": 2
}
